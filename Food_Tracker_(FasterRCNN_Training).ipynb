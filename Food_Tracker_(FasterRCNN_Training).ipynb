{
  "nbformat": 4,
  "nbformat_minor": 0,
  "metadata": {
    "colab": {
      "name": "Food Tracker (FasterRCNN Training).ipynb",
      "provenance": [],
      "collapsed_sections": [],
      "mount_file_id": "1x3AfA7WMNPATQV30HEosD13DLxjJjo4k",
      "authorship_tag": "ABX9TyM+XqPQEdmiJqqhQh+GjC5W"
    },
    "kernelspec": {
      "name": "python3",
      "display_name": "Python 3"
    },
    "accelerator": "GPU"
  },
  "cells": [
    {
      "cell_type": "code",
      "metadata": {
        "id": "DqEatQn_FhC7",
        "colab_type": "code",
        "colab": {}
      },
      "source": [
        "!wget 'http://foodcam.mobi/dataset100.zip'\n",
        "!unzip '/content/dataset100.zip'\n",
        "!rm '/content/dataset100.zip'"
      ],
      "execution_count": 0,
      "outputs": []
    },
    {
      "cell_type": "code",
      "metadata": {
        "id": "NJihi4M9MHes",
        "colab_type": "code",
        "colab": {}
      },
      "source": [
        "import torch\n",
        "import torchvision\n",
        "from torchvision import transforms\n",
        "from torchvision.models.detection.faster_rcnn import FastRCNNPredictor\n",
        "from torch import nn\n",
        "from torch.utils.data import DataLoader, Dataset\n",
        "from sklearn.model_selection import train_test_split\n",
        "import os\n",
        "import numpy as np\n",
        "import cv2\n",
        "from tqdm import tqdm"
      ],
      "execution_count": 0,
      "outputs": []
    },
    {
      "cell_type": "code",
      "metadata": {
        "id": "naB9A7EmTrqD",
        "colab_type": "code",
        "colab": {}
      },
      "source": [
        "def LoadFoodData(folder_path, n_cls):\n",
        "  targets = []\n",
        "  images = []\n",
        "  boxes, labels, image_id, iscrowd = [], [], [], []\n",
        "  for i in tqdm(range(1, n_cls+1)):\n",
        "    info = {}\n",
        "    path = os.path.join(folder_path, str(i))\n",
        "    file = open(path + '/bb_info.txt')\n",
        "    txt = file.read()\n",
        "    file.close()\n",
        "    txt = txt.split('\\n')\n",
        "    # Making a dict of text file\n",
        "    for j in txt[1:]:\n",
        "      if len(j) > 0:\n",
        "        temp = j.split(' ')\n",
        "        info[temp[0]] = [int(x) for x in temp[1:]]\n",
        "    # For loading images and targets\n",
        "    for key in info:\n",
        "      target = {}\n",
        "      filename = os.path.join(path, key + '.jpg')\n",
        "      img = cv2.imread(filename)\n",
        "      img = cv2.cvtColor(img, cv2.COLOR_BGR2RGB)\n",
        "      y, x = img.shape[0], img.shape[1]\n",
        "\n",
        "      x_scalar = 224/x\n",
        "      y_scalar = 224/y\n",
        "      x1 = int(info[key][0]*x_scalar)\n",
        "      y1 = int(info[key][1]*y_scalar)\n",
        "      x2 = int(info[key][2]*x_scalar)\n",
        "      y2 = int(info[key][3]*y_scalar)\n",
        "      poly = [x1, y1, x2, y2]\n",
        "      area = (poly[0]-poly[2]) * (poly[1]-poly[3])\n",
        "      poly = torch.tensor(poly)\n",
        "      poly = torch.unsqueeze(poly, 0)\n",
        "\n",
        "      target['boxes'] = poly\n",
        "      target['labels'] = torch.tensor([int(i)])\n",
        "      target['image_id'] = torch.tensor([int(key)])\n",
        "      target['area'] = torch.tensor([area])\n",
        "      target['iscrowd'] = torch.tensor([0])\n",
        "\n",
        "      images.append(img)\n",
        "      targets.append(target)\n",
        "\n",
        "  return images, targets"
      ],
      "execution_count": 0,
      "outputs": []
    },
    {
      "cell_type": "code",
      "metadata": {
        "id": "ka8B5LX6J-Oy",
        "colab_type": "code",
        "colab": {}
      },
      "source": [
        "class FoodData(Dataset):\n",
        "  def __init__(self, images, targets, transforms=None):\n",
        "    self.images = images\n",
        "    self.targets = targets\n",
        "    self.transforms = transforms\n",
        "\n",
        "  def __len__(self):\n",
        "    return len(self.images)\n",
        "\n",
        "\n",
        "  def __getitem__(self, idx):\n",
        "    image = self.images[idx]\n",
        "    target = self.targets[idx]\n",
        "    image = torchvision.transforms.ToPILImage()(image)\n",
        "    if self.transforms:\n",
        "      image = self.transforms(image)\n",
        "    return image, target\n",
        "\n",
        "def collate(batch):\n",
        "  return tuple(zip(*batch))\n"
      ],
      "execution_count": 0,
      "outputs": []
    },
    {
      "cell_type": "code",
      "metadata": {
        "id": "1yhpaVUyqCXr",
        "colab_type": "code",
        "outputId": "34d8b0d7-e03f-4a80-c6d6-89d24410c817",
        "colab": {
          "base_uri": "https://localhost:8080/",
          "height": 34
        }
      },
      "source": [
        "images, targets = LoadFoodData('/content/UECFOOD100', 100)\n",
        "\n",
        "train_images, test_images, train_targets, test_targets = train_test_split(images, targets, test_size = 0.2, random_state = 7)"
      ],
      "execution_count": 5,
      "outputs": [
        {
          "output_type": "stream",
          "text": [
            "100%|██████████| 100/100 [00:58<00:00,  1.71it/s]\n"
          ],
          "name": "stderr"
        }
      ]
    },
    {
      "cell_type": "code",
      "metadata": {
        "id": "gu-vnwQyAdCu",
        "colab_type": "code",
        "colab": {}
      },
      "source": [
        "transform = torchvision.transforms.Compose([transforms.Resize((224,224)),\n",
        "                                           transforms.ToTensor(),\n",
        "                                           transforms.Normalize([0.5,], [0.5,])])\n",
        "traindata = FoodData(train_images, train_targets, transform)\n",
        "trainloader = DataLoader(traindata, batch_size=16, shuffle=True, collate_fn=collate, num_workers=4)"
      ],
      "execution_count": 0,
      "outputs": []
    },
    {
      "cell_type": "code",
      "metadata": {
        "id": "xO88RJ2tKahS",
        "colab_type": "code",
        "colab": {}
      },
      "source": [
        "model = torchvision.models.detection.fasterrcnn_resnet50_fpn(pretrained=True)\n",
        "num_classes = 100\n",
        "in_features = model.roi_heads.box_predictor.cls_score.in_features\n",
        "model.roi_heads.box_predictor = FastRCNNPredictor(in_features, num_classes)"
      ],
      "execution_count": 0,
      "outputs": []
    },
    {
      "cell_type": "code",
      "metadata": {
        "id": "2N0FUrVssiau",
        "colab_type": "code",
        "colab": {}
      },
      "source": [
        "device = torch.device('cuda')"
      ],
      "execution_count": 0,
      "outputs": []
    },
    {
      "cell_type": "code",
      "metadata": {
        "id": "1Frr5S5tVHdG",
        "colab_type": "code",
        "colab": {}
      },
      "source": [
        "model.to(device)\n",
        "params = [p for p in model.parameters() if p.requires_grad]\n",
        "optimizer = torch.optim.Adam(params, lr=3e-4)"
      ],
      "execution_count": 0,
      "outputs": []
    },
    {
      "cell_type": "code",
      "metadata": {
        "id": "T59xCJncrvJa",
        "colab_type": "code",
        "colab": {}
      },
      "source": [
        "import warnings\n",
        "warnings.filterwarnings('ignore')"
      ],
      "execution_count": 0,
      "outputs": []
    },
    {
      "cell_type": "code",
      "metadata": {
        "id": "jePK_Nh2V2AZ",
        "colab_type": "code",
        "outputId": "c3ba4bd1-5abf-438d-9ba0-cbd3396ea5e6",
        "colab": {
          "base_uri": "https://localhost:8080/",
          "height": 289
        }
      },
      "source": [
        "epochs = 2\n",
        "iteration = 100\n",
        "itr = 0\n",
        "loss = 0\n",
        "for e in range(epochs):\n",
        "  for img, tar in tqdm(trainloader):\n",
        "    img = list(image.to(device) for image in img)\n",
        "    tar = [{k: v.to(device) for k, v in t.items()} for t in tar]\n",
        "    \n",
        "    optimizer.zero_grad()\n",
        "    loss_dict = model(img, tar)\n",
        "    losses = sum(loss for loss in loss_dict.values())\n",
        "    loss_value = losses.item()\n",
        "    losses.backward()\n",
        "    optimizer.step()\n",
        "    \n",
        "    loss += loss_value\n",
        "    itr += 1\n",
        "    if (itr%iteration == 0):\n",
        "      print('\\t\\tIteration:{}\\t\\tLoss:{}'.format(itr, (loss/iteration)))\n",
        "      loss = 0"
      ],
      "execution_count": 12,
      "outputs": [
        {
          "output_type": "stream",
          "text": [
            " 14%|█▍        | 100/718 [02:35<15:58,  1.55s/it]"
          ],
          "name": "stderr"
        },
        {
          "output_type": "stream",
          "text": [
            "\t\tIteration:100\t\tLoss:0.3440188483893871\n"
          ],
          "name": "stdout"
        },
        {
          "output_type": "stream",
          "text": [
            " 28%|██▊       | 200/718 [05:10<13:28,  1.56s/it]"
          ],
          "name": "stderr"
        },
        {
          "output_type": "stream",
          "text": [
            "\t\tIteration:200\t\tLoss:0.2717272047698498\n"
          ],
          "name": "stdout"
        },
        {
          "output_type": "stream",
          "text": [
            " 42%|████▏     | 300/718 [07:46<10:50,  1.56s/it]"
          ],
          "name": "stderr"
        },
        {
          "output_type": "stream",
          "text": [
            "\t\tIteration:300\t\tLoss:0.252243183106184\n"
          ],
          "name": "stdout"
        },
        {
          "output_type": "stream",
          "text": [
            " 56%|█████▌    | 400/718 [10:21<08:12,  1.55s/it]"
          ],
          "name": "stderr"
        },
        {
          "output_type": "stream",
          "text": [
            "\t\tIteration:400\t\tLoss:0.2367002995312214\n"
          ],
          "name": "stdout"
        },
        {
          "output_type": "stream",
          "text": [
            " 70%|██████▉   | 500/718 [12:56<05:38,  1.55s/it]"
          ],
          "name": "stderr"
        },
        {
          "output_type": "stream",
          "text": [
            "\t\tIteration:500\t\tLoss:0.22806488513946532\n"
          ],
          "name": "stdout"
        },
        {
          "output_type": "stream",
          "text": [
            " 84%|████████▎ | 600/718 [15:31<03:02,  1.55s/it]"
          ],
          "name": "stderr"
        },
        {
          "output_type": "stream",
          "text": [
            "\t\tIteration:600\t\tLoss:0.22561468422412873\n"
          ],
          "name": "stdout"
        },
        {
          "output_type": "stream",
          "text": [
            " 97%|█████████▋| 700/718 [18:06<00:27,  1.55s/it]"
          ],
          "name": "stderr"
        },
        {
          "output_type": "stream",
          "text": [
            "\t\tIteration:700\t\tLoss:0.22086596131324768\n"
          ],
          "name": "stdout"
        },
        {
          "output_type": "stream",
          "text": [
            "100%|██████████| 718/718 [18:34<00:00,  1.55s/it]\n",
            " 11%|█▏        | 82/718 [02:07<16:30,  1.56s/it]"
          ],
          "name": "stderr"
        },
        {
          "output_type": "stream",
          "text": [
            "\t\tIteration:800\t\tLoss:0.21325237050652504\n"
          ],
          "name": "stdout"
        },
        {
          "output_type": "stream",
          "text": [
            " 25%|██▌       | 182/718 [04:43<13:54,  1.56s/it]"
          ],
          "name": "stderr"
        },
        {
          "output_type": "stream",
          "text": [
            "\t\tIteration:900\t\tLoss:0.20519811049103737\n"
          ],
          "name": "stdout"
        },
        {
          "output_type": "stream",
          "text": [
            " 39%|███▉      | 282/718 [07:19<11:18,  1.56s/it]"
          ],
          "name": "stderr"
        },
        {
          "output_type": "stream",
          "text": [
            "\t\tIteration:1000\t\tLoss:0.2073324005305767\n"
          ],
          "name": "stdout"
        },
        {
          "output_type": "stream",
          "text": [
            " 53%|█████▎    | 382/718 [09:54<08:42,  1.55s/it]"
          ],
          "name": "stderr"
        },
        {
          "output_type": "stream",
          "text": [
            "\t\tIteration:1100\t\tLoss:0.20506529226899148\n"
          ],
          "name": "stdout"
        },
        {
          "output_type": "stream",
          "text": [
            " 67%|██████▋   | 482/718 [12:29<06:06,  1.55s/it]"
          ],
          "name": "stderr"
        },
        {
          "output_type": "stream",
          "text": [
            "\t\tIteration:1200\t\tLoss:0.21537565916776658\n"
          ],
          "name": "stdout"
        },
        {
          "output_type": "stream",
          "text": [
            " 81%|████████  | 582/718 [15:05<03:31,  1.56s/it]"
          ],
          "name": "stderr"
        },
        {
          "output_type": "stream",
          "text": [
            "\t\tIteration:1300\t\tLoss:0.1996181422472\n"
          ],
          "name": "stdout"
        },
        {
          "output_type": "stream",
          "text": [
            " 95%|█████████▍| 682/718 [17:41<00:55,  1.55s/it]"
          ],
          "name": "stderr"
        },
        {
          "output_type": "stream",
          "text": [
            "\t\tIteration:1400\t\tLoss:0.1978827513754368\n"
          ],
          "name": "stdout"
        },
        {
          "output_type": "stream",
          "text": [
            "100%|██████████| 718/718 [18:38<00:00,  1.56s/it]\n"
          ],
          "name": "stderr"
        }
      ]
    },
    {
      "cell_type": "code",
      "metadata": {
        "id": "9JoaruNh-BqZ",
        "colab_type": "code",
        "colab": {}
      },
      "source": [
        "torch.save(model.state_dict(), '/content/drive/My Drive/FasterRCNN/fasterrcnn_foodtracker.pth')"
      ],
      "execution_count": 0,
      "outputs": []
    }
  ]
}