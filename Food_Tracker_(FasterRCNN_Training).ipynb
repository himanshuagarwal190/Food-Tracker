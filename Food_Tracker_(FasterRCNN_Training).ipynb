{
  "nbformat": 4,
  "nbformat_minor": 0,
  "metadata": {
    "colab": {
      "name": "Food Tracker (FasterRCNN Training).ipynb",
      "provenance": [],
      "collapsed_sections": [],
      "mount_file_id": "1x3AfA7WMNPATQV30HEosD13DLxjJjo4k",
      "authorship_tag": "ABX9TyOZ17ptR8IpVdCODhZgEaVZ"
    },
    "kernelspec": {
      "name": "python3",
      "display_name": "Python 3"
    },
    "accelerator": "GPU",
    "widgets": {
      "application/vnd.jupyter.widget-state+json": {
        "100125d6b7f4441693b677130fca24c1": {
          "model_module": "@jupyter-widgets/controls",
          "model_name": "HBoxModel",
          "state": {
            "_view_name": "HBoxView",
            "_dom_classes": [],
            "_model_name": "HBoxModel",
            "_view_module": "@jupyter-widgets/controls",
            "_model_module_version": "1.5.0",
            "_view_count": null,
            "_view_module_version": "1.5.0",
            "box_style": "",
            "layout": "IPY_MODEL_7ac17529c294466da34cc904e7ee3c19",
            "_model_module": "@jupyter-widgets/controls",
            "children": [
              "IPY_MODEL_4506d7f453814e42b83a9d6b9b8e8613",
              "IPY_MODEL_6e9b429618834f2aa004060fb9bb626a"
            ]
          }
        },
        "7ac17529c294466da34cc904e7ee3c19": {
          "model_module": "@jupyter-widgets/base",
          "model_name": "LayoutModel",
          "state": {
            "_view_name": "LayoutView",
            "grid_template_rows": null,
            "right": null,
            "justify_content": null,
            "_view_module": "@jupyter-widgets/base",
            "overflow": null,
            "_model_module_version": "1.2.0",
            "_view_count": null,
            "flex_flow": null,
            "width": null,
            "min_width": null,
            "border": null,
            "align_items": null,
            "bottom": null,
            "_model_module": "@jupyter-widgets/base",
            "top": null,
            "grid_column": null,
            "overflow_y": null,
            "overflow_x": null,
            "grid_auto_flow": null,
            "grid_area": null,
            "grid_template_columns": null,
            "flex": null,
            "_model_name": "LayoutModel",
            "justify_items": null,
            "grid_row": null,
            "max_height": null,
            "align_content": null,
            "visibility": null,
            "align_self": null,
            "height": null,
            "min_height": null,
            "padding": null,
            "grid_auto_rows": null,
            "grid_gap": null,
            "max_width": null,
            "order": null,
            "_view_module_version": "1.2.0",
            "grid_template_areas": null,
            "object_position": null,
            "object_fit": null,
            "grid_auto_columns": null,
            "margin": null,
            "display": null,
            "left": null
          }
        },
        "4506d7f453814e42b83a9d6b9b8e8613": {
          "model_module": "@jupyter-widgets/controls",
          "model_name": "FloatProgressModel",
          "state": {
            "_view_name": "ProgressView",
            "style": "IPY_MODEL_f64ed0f5424e4a42aa5d9b43c9649b93",
            "_dom_classes": [],
            "description": "100%",
            "_model_name": "FloatProgressModel",
            "bar_style": "success",
            "max": 167502836,
            "_view_module": "@jupyter-widgets/controls",
            "_model_module_version": "1.5.0",
            "value": 167502836,
            "_view_count": null,
            "_view_module_version": "1.5.0",
            "orientation": "horizontal",
            "min": 0,
            "description_tooltip": null,
            "_model_module": "@jupyter-widgets/controls",
            "layout": "IPY_MODEL_455c100c69954886b63305babcf6c226"
          }
        },
        "6e9b429618834f2aa004060fb9bb626a": {
          "model_module": "@jupyter-widgets/controls",
          "model_name": "HTMLModel",
          "state": {
            "_view_name": "HTMLView",
            "style": "IPY_MODEL_af844bc24f84416facbe45bd204e9cde",
            "_dom_classes": [],
            "description": "",
            "_model_name": "HTMLModel",
            "placeholder": "​",
            "_view_module": "@jupyter-widgets/controls",
            "_model_module_version": "1.5.0",
            "value": " 160M/160M [00:09&lt;00:00, 18.3MB/s]",
            "_view_count": null,
            "_view_module_version": "1.5.0",
            "description_tooltip": null,
            "_model_module": "@jupyter-widgets/controls",
            "layout": "IPY_MODEL_ccc0f78710a742ccb79bbefdd208d80d"
          }
        },
        "f64ed0f5424e4a42aa5d9b43c9649b93": {
          "model_module": "@jupyter-widgets/controls",
          "model_name": "ProgressStyleModel",
          "state": {
            "_view_name": "StyleView",
            "_model_name": "ProgressStyleModel",
            "description_width": "initial",
            "_view_module": "@jupyter-widgets/base",
            "_model_module_version": "1.5.0",
            "_view_count": null,
            "_view_module_version": "1.2.0",
            "bar_color": null,
            "_model_module": "@jupyter-widgets/controls"
          }
        },
        "455c100c69954886b63305babcf6c226": {
          "model_module": "@jupyter-widgets/base",
          "model_name": "LayoutModel",
          "state": {
            "_view_name": "LayoutView",
            "grid_template_rows": null,
            "right": null,
            "justify_content": null,
            "_view_module": "@jupyter-widgets/base",
            "overflow": null,
            "_model_module_version": "1.2.0",
            "_view_count": null,
            "flex_flow": null,
            "width": null,
            "min_width": null,
            "border": null,
            "align_items": null,
            "bottom": null,
            "_model_module": "@jupyter-widgets/base",
            "top": null,
            "grid_column": null,
            "overflow_y": null,
            "overflow_x": null,
            "grid_auto_flow": null,
            "grid_area": null,
            "grid_template_columns": null,
            "flex": null,
            "_model_name": "LayoutModel",
            "justify_items": null,
            "grid_row": null,
            "max_height": null,
            "align_content": null,
            "visibility": null,
            "align_self": null,
            "height": null,
            "min_height": null,
            "padding": null,
            "grid_auto_rows": null,
            "grid_gap": null,
            "max_width": null,
            "order": null,
            "_view_module_version": "1.2.0",
            "grid_template_areas": null,
            "object_position": null,
            "object_fit": null,
            "grid_auto_columns": null,
            "margin": null,
            "display": null,
            "left": null
          }
        },
        "af844bc24f84416facbe45bd204e9cde": {
          "model_module": "@jupyter-widgets/controls",
          "model_name": "DescriptionStyleModel",
          "state": {
            "_view_name": "StyleView",
            "_model_name": "DescriptionStyleModel",
            "description_width": "",
            "_view_module": "@jupyter-widgets/base",
            "_model_module_version": "1.5.0",
            "_view_count": null,
            "_view_module_version": "1.2.0",
            "_model_module": "@jupyter-widgets/controls"
          }
        },
        "ccc0f78710a742ccb79bbefdd208d80d": {
          "model_module": "@jupyter-widgets/base",
          "model_name": "LayoutModel",
          "state": {
            "_view_name": "LayoutView",
            "grid_template_rows": null,
            "right": null,
            "justify_content": null,
            "_view_module": "@jupyter-widgets/base",
            "overflow": null,
            "_model_module_version": "1.2.0",
            "_view_count": null,
            "flex_flow": null,
            "width": null,
            "min_width": null,
            "border": null,
            "align_items": null,
            "bottom": null,
            "_model_module": "@jupyter-widgets/base",
            "top": null,
            "grid_column": null,
            "overflow_y": null,
            "overflow_x": null,
            "grid_auto_flow": null,
            "grid_area": null,
            "grid_template_columns": null,
            "flex": null,
            "_model_name": "LayoutModel",
            "justify_items": null,
            "grid_row": null,
            "max_height": null,
            "align_content": null,
            "visibility": null,
            "align_self": null,
            "height": null,
            "min_height": null,
            "padding": null,
            "grid_auto_rows": null,
            "grid_gap": null,
            "max_width": null,
            "order": null,
            "_view_module_version": "1.2.0",
            "grid_template_areas": null,
            "object_position": null,
            "object_fit": null,
            "grid_auto_columns": null,
            "margin": null,
            "display": null,
            "left": null
          }
        }
      }
    }
  },
  "cells": [
    {
      "cell_type": "code",
      "metadata": {
        "id": "DqEatQn_FhC7",
        "colab_type": "code",
        "colab": {}
      },
      "source": [
        "!wget 'http://foodcam.mobi/dataset100.zip'\n",
        "!unzip '/content/dataset100.zip'\n",
        "!rm '/content/dataset100.zip'"
      ],
      "execution_count": 0,
      "outputs": []
    },
    {
      "cell_type": "code",
      "metadata": {
        "id": "NJihi4M9MHes",
        "colab_type": "code",
        "colab": {}
      },
      "source": [
        "import torch\n",
        "import torchvision\n",
        "from torchvision import transforms\n",
        "from torchvision.models.detection.faster_rcnn import FastRCNNPredictor\n",
        "from torch import nn\n",
        "from torch.utils.data import DataLoader, Dataset\n",
        "from sklearn.model_selection import train_test_split\n",
        "import os\n",
        "import numpy as np\n",
        "import cv2\n",
        "from tqdm import tqdm"
      ],
      "execution_count": 0,
      "outputs": []
    },
    {
      "cell_type": "code",
      "metadata": {
        "id": "naB9A7EmTrqD",
        "colab_type": "code",
        "colab": {}
      },
      "source": [
        "def LoadFoodData(folder_path, n_cls):\n",
        "  targets = []\n",
        "  images = []\n",
        "  boxes, labels, image_id, iscrowd = [], [], [], []\n",
        "  for i in tqdm(range(1, n_cls+1)):\n",
        "    info = {}\n",
        "    path = os.path.join(folder_path, str(i))\n",
        "    file = open(path + '/bb_info.txt')\n",
        "    txt = file.read()\n",
        "    file.close()\n",
        "    txt = txt.split('\\n')\n",
        "    # Making a dict of text file\n",
        "    for j in txt[1:]:\n",
        "      if len(j) > 0:\n",
        "        temp = j.split(' ')\n",
        "        info[temp[0]] = [int(x) for x in temp[1:]]\n",
        "    # For loading images and targets\n",
        "    for key in info:\n",
        "      target = {}\n",
        "      filename = os.path.join(path, key + '.jpg')\n",
        "      img = cv2.imread(filename)\n",
        "      img = cv2.cvtColor(img, cv2.COLOR_BGR2RGB)\n",
        "      y, x = img.shape[0], img.shape[1]\n",
        "\n",
        "      x_scalar = 224/x\n",
        "      y_scalar = 224/y\n",
        "      x1 = int(info[key][0]*x_scalar)\n",
        "      y1 = int(info[key][1]*y_scalar)\n",
        "      x2 = int(info[key][2]*x_scalar)\n",
        "      y2 = int(info[key][3]*y_scalar)\n",
        "      poly = [x1, y1, x2, y2]\n",
        "      area = (poly[0]-poly[2]) * (poly[1]-poly[3])\n",
        "      poly = torch.tensor(poly)\n",
        "      poly = torch.unsqueeze(poly, 0)\n",
        "\n",
        "      target['boxes'] = poly\n",
        "      target['labels'] = torch.tensor([int(i)])\n",
        "      target['image_id'] = torch.tensor([int(key)])\n",
        "      target['area'] = torch.tensor([area])\n",
        "      target['iscrowd'] = torch.tensor([0])\n",
        "\n",
        "      images.append(img)\n",
        "      targets.append(target)\n",
        "\n",
        "  return images, targets"
      ],
      "execution_count": 0,
      "outputs": []
    },
    {
      "cell_type": "code",
      "metadata": {
        "id": "ka8B5LX6J-Oy",
        "colab_type": "code",
        "colab": {}
      },
      "source": [
        "class FoodData(Dataset):\n",
        "  def __init__(self, images, targets, transforms=None):\n",
        "    self.images = images\n",
        "    self.targets = targets\n",
        "    self.transforms = transforms\n",
        "\n",
        "  def __len__(self):\n",
        "    return len(self.images)\n",
        "\n",
        "\n",
        "  def __getitem__(self, idx):\n",
        "    image = self.images[idx]\n",
        "    target = self.targets[idx]\n",
        "    image = torchvision.transforms.ToPILImage()(image)\n",
        "    if self.transforms:\n",
        "      image = self.transforms(image)\n",
        "    return image, target\n",
        "\n",
        "def collate(batch):\n",
        "  return tuple(zip(*batch))\n"
      ],
      "execution_count": 0,
      "outputs": []
    },
    {
      "cell_type": "code",
      "metadata": {
        "id": "1yhpaVUyqCXr",
        "colab_type": "code",
        "outputId": "764b106c-be9b-4eb9-c4b0-4df36151b16d",
        "colab": {
          "base_uri": "https://localhost:8080/",
          "height": 34
        }
      },
      "source": [
        "images, targets = LoadFoodData('/content/UECFOOD100', 100)\n",
        "\n",
        "train_images, test_images, train_targets, test_targets = train_test_split(images, targets, test_size = 0.2, random_state = 7)"
      ],
      "execution_count": 5,
      "outputs": [
        {
          "output_type": "stream",
          "text": [
            "100%|██████████| 100/100 [00:51<00:00,  1.93it/s]\n"
          ],
          "name": "stderr"
        }
      ]
    },
    {
      "cell_type": "code",
      "metadata": {
        "id": "gu-vnwQyAdCu",
        "colab_type": "code",
        "colab": {}
      },
      "source": [
        "transform = torchvision.transforms.Compose([transforms.Resize((224,224)),\n",
        "                                           transforms.ToTensor(),\n",
        "                                           transforms.Normalize([0.5,], [0.5,])])\n",
        "traindata = FoodData(train_images, train_targets, transform)\n",
        "trainloader = DataLoader(traindata, batch_size=8, shuffle=True, collate_fn=collate, num_workers=4)"
      ],
      "execution_count": 0,
      "outputs": []
    },
    {
      "cell_type": "code",
      "metadata": {
        "id": "xO88RJ2tKahS",
        "colab_type": "code",
        "colab": {
          "base_uri": "https://localhost:8080/",
          "height": 103,
          "referenced_widgets": [
            "100125d6b7f4441693b677130fca24c1",
            "7ac17529c294466da34cc904e7ee3c19",
            "4506d7f453814e42b83a9d6b9b8e8613",
            "6e9b429618834f2aa004060fb9bb626a",
            "f64ed0f5424e4a42aa5d9b43c9649b93",
            "455c100c69954886b63305babcf6c226",
            "af844bc24f84416facbe45bd204e9cde",
            "ccc0f78710a742ccb79bbefdd208d80d"
          ]
        },
        "outputId": "cad218a7-eaf7-4087-db40-1257e81038b9"
      },
      "source": [
        "model = torchvision.models.detection.fasterrcnn_resnet50_fpn(pretrained=True)\n",
        "num_classes = 100\n",
        "in_features = model.roi_heads.box_predictor.cls_score.in_features\n",
        "model.roi_heads.box_predictor = FastRCNNPredictor(in_features, num_classes)"
      ],
      "execution_count": 7,
      "outputs": [
        {
          "output_type": "stream",
          "text": [
            "Downloading: \"https://download.pytorch.org/models/fasterrcnn_resnet50_fpn_coco-258fb6c6.pth\" to /root/.cache/torch/checkpoints/fasterrcnn_resnet50_fpn_coco-258fb6c6.pth\n"
          ],
          "name": "stderr"
        },
        {
          "output_type": "display_data",
          "data": {
            "application/vnd.jupyter.widget-view+json": {
              "model_id": "100125d6b7f4441693b677130fca24c1",
              "version_minor": 0,
              "version_major": 2
            },
            "text/plain": [
              "HBox(children=(FloatProgress(value=0.0, max=167502836.0), HTML(value='')))"
            ]
          },
          "metadata": {
            "tags": []
          }
        },
        {
          "output_type": "stream",
          "text": [
            "\n"
          ],
          "name": "stdout"
        }
      ]
    },
    {
      "cell_type": "code",
      "metadata": {
        "id": "2N0FUrVssiau",
        "colab_type": "code",
        "colab": {}
      },
      "source": [
        "device = torch.device('cuda')"
      ],
      "execution_count": 0,
      "outputs": []
    },
    {
      "cell_type": "code",
      "metadata": {
        "id": "1Frr5S5tVHdG",
        "colab_type": "code",
        "colab": {}
      },
      "source": [
        "model.to(device)\n",
        "params = [p for p in model.parameters() if p.requires_grad]\n",
        "optimizer = torch.optim.Adam(params, lr=3e-4)"
      ],
      "execution_count": 0,
      "outputs": []
    },
    {
      "cell_type": "code",
      "metadata": {
        "id": "T59xCJncrvJa",
        "colab_type": "code",
        "colab": {}
      },
      "source": [
        "import warnings\n",
        "warnings.filterwarnings('ignore')"
      ],
      "execution_count": 0,
      "outputs": []
    },
    {
      "cell_type": "code",
      "metadata": {
        "id": "jePK_Nh2V2AZ",
        "colab_type": "code",
        "outputId": "a5daaebc-cf68-4484-ca5c-3f44ef488760",
        "colab": {
          "base_uri": "https://localhost:8080/",
          "height": 527
        }
      },
      "source": [
        "epochs = 2\n",
        "iteration = 100\n",
        "itr = 0\n",
        "for e in range(epochs):\n",
        "  for img, tar in tqdm(trainloader):\n",
        "    img = list(image.to(device) for image in img)\n",
        "    tar = [{k: v.to(device) for k, v in t.items()} for t in tar]\n",
        "    \n",
        "    optimizer.zero_grad()\n",
        "    loss_dict = model(img, tar)\n",
        "    losses = sum(loss for loss in loss_dict.values())\n",
        "    loss_value = losses.item()\n",
        "    losses.backward()\n",
        "    optimizer.step()\n",
        "    \n",
        "    loss += loss_value\n",
        "    itr += 1\n",
        "    if (itr%iteration == 0):\n",
        "      print('Iteration:{}\\tLoss:{}'.format(itr, (loss/iteration)))\n",
        "      loss = 0\n"
      ],
      "execution_count": 11,
      "outputs": [
        {
          "output_type": "stream",
          "text": [
            "  7%|▋         | 100/1436 [01:27<19:29,  1.14it/s]"
          ],
          "name": "stderr"
        },
        {
          "output_type": "stream",
          "text": [
            "Iteration:100\tLoss:0.3820470017194748\n"
          ],
          "name": "stdout"
        },
        {
          "output_type": "stream",
          "text": [
            " 14%|█▍        | 200/1436 [02:55<18:04,  1.14it/s]"
          ],
          "name": "stderr"
        },
        {
          "output_type": "stream",
          "text": [
            "Iteration:200\tLoss:0.29029945001006124\n"
          ],
          "name": "stdout"
        },
        {
          "output_type": "stream",
          "text": [
            " 21%|██        | 300/1436 [04:23<16:39,  1.14it/s]"
          ],
          "name": "stderr"
        },
        {
          "output_type": "stream",
          "text": [
            "Iteration:300\tLoss:0.26153816491365434\n"
          ],
          "name": "stdout"
        },
        {
          "output_type": "stream",
          "text": [
            " 28%|██▊       | 400/1436 [05:50<15:10,  1.14it/s]"
          ],
          "name": "stderr"
        },
        {
          "output_type": "stream",
          "text": [
            "Iteration:400\tLoss:0.255713532269001\n"
          ],
          "name": "stdout"
        },
        {
          "output_type": "stream",
          "text": [
            " 35%|███▍      | 500/1436 [07:18<13:41,  1.14it/s]"
          ],
          "name": "stderr"
        },
        {
          "output_type": "stream",
          "text": [
            "Iteration:500\tLoss:0.25230075791478157\n"
          ],
          "name": "stdout"
        },
        {
          "output_type": "stream",
          "text": [
            " 42%|████▏     | 600/1436 [08:46<12:16,  1.14it/s]"
          ],
          "name": "stderr"
        },
        {
          "output_type": "stream",
          "text": [
            "Iteration:600\tLoss:0.23918661311268807\n"
          ],
          "name": "stdout"
        },
        {
          "output_type": "stream",
          "text": [
            " 49%|████▊     | 700/1436 [10:14<10:46,  1.14it/s]"
          ],
          "name": "stderr"
        },
        {
          "output_type": "stream",
          "text": [
            "Iteration:700\tLoss:0.2381303496658802\n"
          ],
          "name": "stdout"
        },
        {
          "output_type": "stream",
          "text": [
            " 56%|█████▌    | 800/1436 [11:42<09:20,  1.13it/s]"
          ],
          "name": "stderr"
        },
        {
          "output_type": "stream",
          "text": [
            "Iteration:800\tLoss:0.23598519936203957\n"
          ],
          "name": "stdout"
        },
        {
          "output_type": "stream",
          "text": [
            " 63%|██████▎   | 900/1436 [13:10<07:51,  1.14it/s]"
          ],
          "name": "stderr"
        },
        {
          "output_type": "stream",
          "text": [
            "Iteration:900\tLoss:0.22399501830339433\n"
          ],
          "name": "stdout"
        },
        {
          "output_type": "stream",
          "text": [
            " 70%|██████▉   | 1000/1436 [14:38<06:23,  1.14it/s]"
          ],
          "name": "stderr"
        },
        {
          "output_type": "stream",
          "text": [
            "Iteration:1000\tLoss:0.23054748743772507\n"
          ],
          "name": "stdout"
        },
        {
          "output_type": "stream",
          "text": [
            " 77%|███████▋  | 1100/1436 [16:06<04:55,  1.14it/s]"
          ],
          "name": "stderr"
        },
        {
          "output_type": "stream",
          "text": [
            "Iteration:1100\tLoss:0.22830456629395485\n"
          ],
          "name": "stdout"
        },
        {
          "output_type": "stream",
          "text": [
            " 84%|████████▎ | 1200/1436 [17:34<03:27,  1.14it/s]"
          ],
          "name": "stderr"
        },
        {
          "output_type": "stream",
          "text": [
            "Iteration:1200\tLoss:0.23037888169288634\n"
          ],
          "name": "stdout"
        },
        {
          "output_type": "stream",
          "text": [
            " 91%|█████████ | 1300/1436 [19:02<01:59,  1.14it/s]"
          ],
          "name": "stderr"
        },
        {
          "output_type": "stream",
          "text": [
            "Iteration:1300\tLoss:0.22287818998098374\n"
          ],
          "name": "stdout"
        },
        {
          "output_type": "stream",
          "text": [
            " 97%|█████████▋| 1400/1436 [20:30<00:31,  1.13it/s]"
          ],
          "name": "stderr"
        },
        {
          "output_type": "stream",
          "text": [
            "Iteration:1400\tLoss:0.22693948939442635\n"
          ],
          "name": "stdout"
        },
        {
          "output_type": "stream",
          "text": [
            "100%|██████████| 1436/1436 [21:02<00:00,  1.14it/s]\n",
            "  4%|▍         | 64/1436 [00:56<20:05,  1.14it/s]"
          ],
          "name": "stderr"
        },
        {
          "output_type": "stream",
          "text": [
            "Iteration:1500\tLoss:0.13075012117624282\n"
          ],
          "name": "stdout"
        },
        {
          "output_type": "stream",
          "text": [
            " 11%|█▏        | 164/1436 [02:24<18:38,  1.14it/s]"
          ],
          "name": "stderr"
        },
        {
          "output_type": "stream",
          "text": [
            "Iteration:1600\tLoss:0.21514894887804986\n"
          ],
          "name": "stdout"
        },
        {
          "output_type": "stream",
          "text": [
            " 18%|█▊        | 264/1436 [03:52<17:09,  1.14it/s]"
          ],
          "name": "stderr"
        },
        {
          "output_type": "stream",
          "text": [
            "Iteration:1700\tLoss:0.2088378019630909\n"
          ],
          "name": "stdout"
        },
        {
          "output_type": "stream",
          "text": [
            " 25%|██▌       | 364/1436 [05:20<15:45,  1.13it/s]"
          ],
          "name": "stderr"
        },
        {
          "output_type": "stream",
          "text": [
            "Iteration:1800\tLoss:0.21027203932404517\n"
          ],
          "name": "stdout"
        },
        {
          "output_type": "stream",
          "text": [
            " 32%|███▏      | 464/1436 [06:47<14:11,  1.14it/s]"
          ],
          "name": "stderr"
        },
        {
          "output_type": "stream",
          "text": [
            "Iteration:1900\tLoss:0.20341689318418502\n"
          ],
          "name": "stdout"
        },
        {
          "output_type": "stream",
          "text": [
            " 39%|███▉      | 564/1436 [08:15<12:45,  1.14it/s]"
          ],
          "name": "stderr"
        },
        {
          "output_type": "stream",
          "text": [
            "Iteration:2000\tLoss:0.20612787172198296\n"
          ],
          "name": "stdout"
        },
        {
          "output_type": "stream",
          "text": [
            " 46%|████▌     | 664/1436 [09:43<11:18,  1.14it/s]"
          ],
          "name": "stderr"
        },
        {
          "output_type": "stream",
          "text": [
            "Iteration:2100\tLoss:0.21196327224373818\n"
          ],
          "name": "stdout"
        },
        {
          "output_type": "stream",
          "text": [
            " 53%|█████▎    | 764/1436 [11:11<09:49,  1.14it/s]"
          ],
          "name": "stderr"
        },
        {
          "output_type": "stream",
          "text": [
            "Iteration:2200\tLoss:0.21112696528434755\n"
          ],
          "name": "stdout"
        },
        {
          "output_type": "stream",
          "text": [
            " 60%|██████    | 864/1436 [12:39<08:23,  1.14it/s]"
          ],
          "name": "stderr"
        },
        {
          "output_type": "stream",
          "text": [
            "Iteration:2300\tLoss:0.1974128421396017\n"
          ],
          "name": "stdout"
        },
        {
          "output_type": "stream",
          "text": [
            " 67%|██████▋   | 964/1436 [14:07<06:53,  1.14it/s]"
          ],
          "name": "stderr"
        },
        {
          "output_type": "stream",
          "text": [
            "Iteration:2400\tLoss:0.2075698482990265\n"
          ],
          "name": "stdout"
        },
        {
          "output_type": "stream",
          "text": [
            " 74%|███████▍  | 1064/1436 [15:35<05:26,  1.14it/s]"
          ],
          "name": "stderr"
        },
        {
          "output_type": "stream",
          "text": [
            "Iteration:2500\tLoss:0.20126375287771225\n"
          ],
          "name": "stdout"
        },
        {
          "output_type": "stream",
          "text": [
            " 81%|████████  | 1164/1436 [17:03<03:59,  1.14it/s]"
          ],
          "name": "stderr"
        },
        {
          "output_type": "stream",
          "text": [
            "Iteration:2600\tLoss:0.20630924746394158\n"
          ],
          "name": "stdout"
        },
        {
          "output_type": "stream",
          "text": [
            " 88%|████████▊ | 1264/1436 [18:31<02:31,  1.13it/s]"
          ],
          "name": "stderr"
        },
        {
          "output_type": "stream",
          "text": [
            "Iteration:2700\tLoss:0.19577991724014282\n"
          ],
          "name": "stdout"
        },
        {
          "output_type": "stream",
          "text": [
            " 95%|█████████▍| 1364/1436 [19:59<01:03,  1.14it/s]"
          ],
          "name": "stderr"
        },
        {
          "output_type": "stream",
          "text": [
            "Iteration:2800\tLoss:0.19697982504963873\n"
          ],
          "name": "stdout"
        },
        {
          "output_type": "stream",
          "text": [
            "100%|██████████| 1436/1436 [21:03<00:00,  1.14it/s]\n"
          ],
          "name": "stderr"
        }
      ]
    },
    {
      "cell_type": "code",
      "metadata": {
        "id": "9JoaruNh-BqZ",
        "colab_type": "code",
        "colab": {}
      },
      "source": [
        "torch.save(model.state_dict(), '/content/drive/My Drive/FasterRCNN/fasterrcnn_foodtracker.pth')"
      ],
      "execution_count": 0,
      "outputs": []
    }
  ]
}