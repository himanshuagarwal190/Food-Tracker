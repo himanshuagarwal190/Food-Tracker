{
  "nbformat": 4,
  "nbformat_minor": 0,
  "metadata": {
    "colab": {
      "name": "Food Tracker (FasterRCNN Training).ipynb",
      "provenance": [],
      "collapsed_sections": [],
      "mount_file_id": "1x3AfA7WMNPATQV30HEosD13DLxjJjo4k",
      "authorship_tag": "ABX9TyN53iDImf7SetIZszLP47sg",
      "include_colab_link": true
    },
    "kernelspec": {
      "name": "python3",
      "display_name": "Python 3"
    },
    "accelerator": "GPU"
  },
  "cells": [
    {
      "cell_type": "markdown",
      "metadata": {
        "id": "view-in-github",
        "colab_type": "text"
      },
      "source": [
        "<a href=\"https://colab.research.google.com/github/himanshuagarwal190/Food-Tracker/blob/master/Food_Tracker_(FasterRCNN_Training).ipynb\" target=\"_parent\"><img src=\"https://colab.research.google.com/assets/colab-badge.svg\" alt=\"Open In Colab\"/></a>"
      ]
    },
    {
      "cell_type": "code",
      "metadata": {
        "id": "AAP2poqUHPPq",
        "colab_type": "code",
        "colab": {}
      },
      "source": [
        "!wget 'http://foodcam.mobi/dataset100.zip'\n",
        "!unzip '/content/dataset100.zip'\n",
        "!rm '/content/dataset100.zip'"
      ],
      "execution_count": 0,
      "outputs": []
    },
    {
      "cell_type": "code",
      "metadata": {
        "id": "NJihi4M9MHes",
        "colab_type": "code",
        "colab": {}
      },
      "source": [
        "import torch\n",
        "import torchvision\n",
        "from torchvision import transforms\n",
        "from torchvision.models.detection.faster_rcnn import FastRCNNPredictor\n",
        "from torch import nn\n",
        "from torch.utils.data import DataLoader, Dataset\n",
        "from sklearn.model_selection import train_test_split\n",
        "import os\n",
        "import numpy as np\n",
        "import cv2\n",
        "from tqdm import tqdm"
      ],
      "execution_count": 0,
      "outputs": []
    },
    {
      "cell_type": "code",
      "metadata": {
        "id": "naB9A7EmTrqD",
        "colab_type": "code",
        "colab": {}
      },
      "source": [
        "def LoadFoodData(folder_path, n_cls):\n",
        "  targets = []\n",
        "  images = []\n",
        "  boxes, labels, image_id, iscrowd = [], [], [], []\n",
        "  for i in tqdm(range(1, n_cls+1)):\n",
        "    info = {}\n",
        "    path = os.path.join(folder_path, str(i))\n",
        "    file = open(path + '/bb_info.txt')\n",
        "    txt = file.read()\n",
        "    file.close()\n",
        "    txt = txt.split('\\n')\n",
        "    # Making a dict of text file\n",
        "    for j in txt[1:]:\n",
        "      if len(j) > 0:\n",
        "        temp = j.split(' ')\n",
        "        info[temp[0]] = [int(x) for x in temp[1:]]\n",
        "    # For loading images and targets\n",
        "    for key in info:\n",
        "      target = {}\n",
        "      filename = os.path.join(path, key + '.jpg')\n",
        "      img = cv2.imread(filename)\n",
        "      img = cv2.cvtColor(img, cv2.COLOR_BGR2RGB)\n",
        "      y, x = img.shape[0], img.shape[1]\n",
        "\n",
        "      x_scalar = 224/x\n",
        "      y_scalar = 224/y\n",
        "      x1 = int(info[key][0]*x_scalar)\n",
        "      y1 = int(info[key][1]*y_scalar)\n",
        "      x2 = int(info[key][2]*x_scalar)\n",
        "      y2 = int(info[key][3]*y_scalar)\n",
        "      poly = [x1, y1, x2, y2]\n",
        "      area = (poly[0]-poly[2]) * (poly[1]-poly[3])\n",
        "      poly = torch.tensor(poly)\n",
        "      poly = torch.unsqueeze(poly, 0)\n",
        "\n",
        "      target['boxes'] = poly\n",
        "      target['labels'] = torch.tensor([int(i)])\n",
        "      target['image_id'] = torch.tensor([int(key)])\n",
        "      target['area'] = torch.tensor([area])\n",
        "      target['iscrowd'] = torch.tensor([0])\n",
        "\n",
        "      images.append(img)\n",
        "      targets.append(target)\n",
        "\n",
        "  return images, targets"
      ],
      "execution_count": 0,
      "outputs": []
    },
    {
      "cell_type": "code",
      "metadata": {
        "id": "ka8B5LX6J-Oy",
        "colab_type": "code",
        "colab": {}
      },
      "source": [
        "class FoodData(Dataset):\n",
        "  def __init__(self, images, targets, transforms=None):\n",
        "    self.images = images\n",
        "    self.targets = targets\n",
        "    self.transforms = transforms\n",
        "\n",
        "  def __len__(self):\n",
        "    return len(self.images)\n",
        "\n",
        "\n",
        "  def __getitem__(self, idx):\n",
        "    image = self.images[idx]\n",
        "    target = self.targets[idx]\n",
        "    image = torchvision.transforms.ToPILImage()(image)\n",
        "    if self.transforms:\n",
        "      image = self.transforms(image)\n",
        "    return image, target\n",
        "\n",
        "def collate(batch):\n",
        "  return tuple(zip(*batch))\n"
      ],
      "execution_count": 0,
      "outputs": []
    },
    {
      "cell_type": "code",
      "metadata": {
        "id": "1yhpaVUyqCXr",
        "colab_type": "code",
        "outputId": "cc10b6e7-0924-44cc-aba9-59e272d1be32",
        "colab": {
          "base_uri": "https://localhost:8080/",
          "height": 34
        }
      },
      "source": [
        "images, targets = LoadFoodData('/content/UECFOOD100', 100)\n",
        "\n",
        "train_images, test_images, train_targets, test_targets = train_test_split(images, targets, test_size = 0.2, random_state = 7)"
      ],
      "execution_count": 4,
      "outputs": [
        {
          "output_type": "stream",
          "text": [
            "100%|██████████| 100/100 [01:01<00:00,  1.64it/s]\n"
          ],
          "name": "stderr"
        }
      ]
    },
    {
      "cell_type": "code",
      "metadata": {
        "id": "gu-vnwQyAdCu",
        "colab_type": "code",
        "colab": {}
      },
      "source": [
        "transform = torchvision.transforms.Compose([transforms.Resize((224,224)),\n",
        "                                           transforms.ToTensor(),\n",
        "                                           transforms.Normalize([0.5,], [0.5,])])\n",
        "traindata = FoodData(train_images, train_targets, transform)\n",
        "trainloader = DataLoader(traindata, batch_size=16, shuffle=True, collate_fn=collate, num_workers=4)"
      ],
      "execution_count": 0,
      "outputs": []
    },
    {
      "cell_type": "code",
      "metadata": {
        "id": "xO88RJ2tKahS",
        "colab_type": "code",
        "colab": {}
      },
      "source": [
        "model = torchvision.models.detection.fasterrcnn_resnet50_fpn(pretrained=True)\n",
        "num_classes = 100\n",
        "in_features = model.roi_heads.box_predictor.cls_score.in_features\n",
        "model.roi_heads.box_predictor = FastRCNNPredictor(in_features, num_classes)"
      ],
      "execution_count": 0,
      "outputs": []
    },
    {
      "cell_type": "code",
      "metadata": {
        "id": "2N0FUrVssiau",
        "colab_type": "code",
        "colab": {}
      },
      "source": [
        "device = torch.device('cuda')"
      ],
      "execution_count": 0,
      "outputs": []
    },
    {
      "cell_type": "code",
      "metadata": {
        "id": "1Frr5S5tVHdG",
        "colab_type": "code",
        "colab": {}
      },
      "source": [
        "model.to(device)\n",
        "params = [p for p in model.parameters() if p.requires_grad]\n",
        "optimizer = torch.optim.Adam(params, lr=3e-4)"
      ],
      "execution_count": 0,
      "outputs": []
    },
    {
      "cell_type": "code",
      "metadata": {
        "id": "01GuvvHpfA0j",
        "colab_type": "code",
        "outputId": "5c2f3de8-9cae-4540-c3bb-bc5a555ad892",
        "colab": {
          "base_uri": "https://localhost:8080/",
          "height": 34
        }
      },
      "source": [
        "model.load_state_dict(torch.load('/content/drive/My Drive/FasterRCNN/fasterrcnn_foodtracker.pth'))"
      ],
      "execution_count": 9,
      "outputs": [
        {
          "output_type": "execute_result",
          "data": {
            "text/plain": [
              "<All keys matched successfully>"
            ]
          },
          "metadata": {
            "tags": []
          },
          "execution_count": 9
        }
      ]
    },
    {
      "cell_type": "code",
      "metadata": {
        "id": "T59xCJncrvJa",
        "colab_type": "code",
        "colab": {}
      },
      "source": [
        "import warnings\n",
        "warnings.filterwarnings('ignore')"
      ],
      "execution_count": 0,
      "outputs": []
    },
    {
      "cell_type": "code",
      "metadata": {
        "id": "jePK_Nh2V2AZ",
        "colab_type": "code",
        "outputId": "3e04c777-7c6f-4913-ef29-c3e6ac06d4a6",
        "colab": {
          "base_uri": "https://localhost:8080/",
          "height": 1000
        }
      },
      "source": [
        "epochs = 8\n",
        "iteration = 100\n",
        "itr = 0\n",
        "loss = 0\n",
        "for e in range(epochs):\n",
        "  for img, tar in tqdm(trainloader):\n",
        "    img = list(image.to(device) for image in img)\n",
        "    tar = [{k: v.to(device) for k, v in t.items()} for t in tar]\n",
        "    \n",
        "    optimizer.zero_grad()\n",
        "    loss_dict = model(img, tar)\n",
        "    losses = sum(loss for loss in loss_dict.values())\n",
        "    loss_value = losses.item()\n",
        "    losses.backward()\n",
        "    optimizer.step()\n",
        "    \n",
        "    loss += loss_value\n",
        "    itr += 1\n",
        "    if (itr%iteration == 0):\n",
        "      print('\\t\\tIteration:{}\\t\\tLoss:{}'.format(itr, (loss/iteration)))\n",
        "      loss = 0"
      ],
      "execution_count": 11,
      "outputs": [
        {
          "output_type": "stream",
          "text": [
            " 14%|█▍        | 100/718 [02:35<15:56,  1.55s/it]"
          ],
          "name": "stderr"
        },
        {
          "output_type": "stream",
          "text": [
            "\t\tIteration:100\t\tLoss:0.11197924092411995\n"
          ],
          "name": "stdout"
        },
        {
          "output_type": "stream",
          "text": [
            " 28%|██▊       | 200/718 [05:10<13:22,  1.55s/it]"
          ],
          "name": "stderr"
        },
        {
          "output_type": "stream",
          "text": [
            "\t\tIteration:200\t\tLoss:0.11488988533616067\n"
          ],
          "name": "stdout"
        },
        {
          "output_type": "stream",
          "text": [
            " 42%|████▏     | 300/718 [07:45<10:46,  1.55s/it]"
          ],
          "name": "stderr"
        },
        {
          "output_type": "stream",
          "text": [
            "\t\tIteration:300\t\tLoss:0.11363307893276214\n"
          ],
          "name": "stdout"
        },
        {
          "output_type": "stream",
          "text": [
            " 56%|█████▌    | 400/718 [10:20<08:12,  1.55s/it]"
          ],
          "name": "stderr"
        },
        {
          "output_type": "stream",
          "text": [
            "\t\tIteration:400\t\tLoss:0.1086672243475914\n"
          ],
          "name": "stdout"
        },
        {
          "output_type": "stream",
          "text": [
            " 70%|██████▉   | 500/718 [12:55<05:37,  1.55s/it]"
          ],
          "name": "stderr"
        },
        {
          "output_type": "stream",
          "text": [
            "\t\tIteration:500\t\tLoss:0.11530918747186661\n"
          ],
          "name": "stdout"
        },
        {
          "output_type": "stream",
          "text": [
            " 84%|████████▎ | 600/718 [15:30<03:03,  1.55s/it]"
          ],
          "name": "stderr"
        },
        {
          "output_type": "stream",
          "text": [
            "\t\tIteration:600\t\tLoss:0.11826446115970611\n"
          ],
          "name": "stdout"
        },
        {
          "output_type": "stream",
          "text": [
            " 97%|█████████▋| 700/718 [18:05<00:27,  1.55s/it]"
          ],
          "name": "stderr"
        },
        {
          "output_type": "stream",
          "text": [
            "\t\tIteration:700\t\tLoss:0.11601968333125115\n"
          ],
          "name": "stdout"
        },
        {
          "output_type": "stream",
          "text": [
            "100%|██████████| 718/718 [18:33<00:00,  1.55s/it]\n",
            " 11%|█▏        | 82/718 [02:07<16:28,  1.55s/it]"
          ],
          "name": "stderr"
        },
        {
          "output_type": "stream",
          "text": [
            "\t\tIteration:800\t\tLoss:0.10437429018318653\n"
          ],
          "name": "stdout"
        },
        {
          "output_type": "stream",
          "text": [
            " 25%|██▌       | 182/718 [04:42<13:50,  1.55s/it]"
          ],
          "name": "stderr"
        },
        {
          "output_type": "stream",
          "text": [
            "\t\tIteration:900\t\tLoss:0.09935849778354168\n"
          ],
          "name": "stdout"
        },
        {
          "output_type": "stream",
          "text": [
            " 39%|███▉      | 282/718 [07:17<11:15,  1.55s/it]"
          ],
          "name": "stderr"
        },
        {
          "output_type": "stream",
          "text": [
            "\t\tIteration:1000\t\tLoss:0.10180437199771404\n"
          ],
          "name": "stdout"
        },
        {
          "output_type": "stream",
          "text": [
            " 53%|█████▎    | 382/718 [09:52<08:40,  1.55s/it]"
          ],
          "name": "stderr"
        },
        {
          "output_type": "stream",
          "text": [
            "\t\tIteration:1100\t\tLoss:0.09993708975613118\n"
          ],
          "name": "stdout"
        },
        {
          "output_type": "stream",
          "text": [
            " 67%|██████▋   | 482/718 [12:27<06:05,  1.55s/it]"
          ],
          "name": "stderr"
        },
        {
          "output_type": "stream",
          "text": [
            "\t\tIteration:1200\t\tLoss:0.10277009926736355\n"
          ],
          "name": "stdout"
        },
        {
          "output_type": "stream",
          "text": [
            " 81%|████████  | 582/718 [15:02<03:30,  1.55s/it]"
          ],
          "name": "stderr"
        },
        {
          "output_type": "stream",
          "text": [
            "\t\tIteration:1300\t\tLoss:0.11902578555047512\n"
          ],
          "name": "stdout"
        },
        {
          "output_type": "stream",
          "text": [
            " 95%|█████████▍| 682/718 [17:37<00:55,  1.55s/it]"
          ],
          "name": "stderr"
        },
        {
          "output_type": "stream",
          "text": [
            "\t\tIteration:1400\t\tLoss:0.12535161711275578\n"
          ],
          "name": "stdout"
        },
        {
          "output_type": "stream",
          "text": [
            "100%|██████████| 718/718 [18:33<00:00,  1.55s/it]\n",
            "  9%|▉         | 64/718 [01:39<16:52,  1.55s/it]"
          ],
          "name": "stderr"
        },
        {
          "output_type": "stream",
          "text": [
            "\t\tIteration:1500\t\tLoss:0.11586569115519524\n"
          ],
          "name": "stdout"
        },
        {
          "output_type": "stream",
          "text": [
            " 23%|██▎       | 164/718 [04:14<14:16,  1.55s/it]"
          ],
          "name": "stderr"
        },
        {
          "output_type": "stream",
          "text": [
            "\t\tIteration:1600\t\tLoss:0.10862731836736202\n"
          ],
          "name": "stdout"
        },
        {
          "output_type": "stream",
          "text": [
            " 37%|███▋      | 264/718 [06:49<11:43,  1.55s/it]"
          ],
          "name": "stderr"
        },
        {
          "output_type": "stream",
          "text": [
            "\t\tIteration:1700\t\tLoss:0.10337927900254726\n"
          ],
          "name": "stdout"
        },
        {
          "output_type": "stream",
          "text": [
            " 51%|█████     | 364/718 [09:24<09:08,  1.55s/it]"
          ],
          "name": "stderr"
        },
        {
          "output_type": "stream",
          "text": [
            "\t\tIteration:1800\t\tLoss:0.11337575629353523\n"
          ],
          "name": "stdout"
        },
        {
          "output_type": "stream",
          "text": [
            " 65%|██████▍   | 464/718 [11:59<06:34,  1.55s/it]"
          ],
          "name": "stderr"
        },
        {
          "output_type": "stream",
          "text": [
            "\t\tIteration:1900\t\tLoss:0.10533812530338764\n"
          ],
          "name": "stdout"
        },
        {
          "output_type": "stream",
          "text": [
            " 79%|███████▊  | 564/718 [14:34<03:59,  1.55s/it]"
          ],
          "name": "stderr"
        },
        {
          "output_type": "stream",
          "text": [
            "\t\tIteration:2000\t\tLoss:0.10083524383604527\n"
          ],
          "name": "stdout"
        },
        {
          "output_type": "stream",
          "text": [
            " 92%|█████████▏| 664/718 [17:09<01:23,  1.55s/it]"
          ],
          "name": "stderr"
        },
        {
          "output_type": "stream",
          "text": [
            "\t\tIteration:2100\t\tLoss:0.11405168980360031\n"
          ],
          "name": "stdout"
        },
        {
          "output_type": "stream",
          "text": [
            "100%|██████████| 718/718 [18:33<00:00,  1.55s/it]\n",
            "  6%|▋         | 46/718 [01:11<17:23,  1.55s/it]"
          ],
          "name": "stderr"
        },
        {
          "output_type": "stream",
          "text": [
            "\t\tIteration:2200\t\tLoss:0.10878735329955816\n"
          ],
          "name": "stdout"
        },
        {
          "output_type": "stream",
          "text": [
            " 20%|██        | 146/718 [03:46<14:46,  1.55s/it]"
          ],
          "name": "stderr"
        },
        {
          "output_type": "stream",
          "text": [
            "\t\tIteration:2300\t\tLoss:0.09932931862771512\n"
          ],
          "name": "stdout"
        },
        {
          "output_type": "stream",
          "text": [
            " 34%|███▍      | 246/718 [06:21<12:10,  1.55s/it]"
          ],
          "name": "stderr"
        },
        {
          "output_type": "stream",
          "text": [
            "\t\tIteration:2400\t\tLoss:0.10760237440466881\n"
          ],
          "name": "stdout"
        },
        {
          "output_type": "stream",
          "text": [
            " 48%|████▊     | 346/718 [08:56<09:37,  1.55s/it]"
          ],
          "name": "stderr"
        },
        {
          "output_type": "stream",
          "text": [
            "\t\tIteration:2500\t\tLoss:0.11351339507848024\n"
          ],
          "name": "stdout"
        },
        {
          "output_type": "stream",
          "text": [
            " 62%|██████▏   | 446/718 [11:31<07:01,  1.55s/it]"
          ],
          "name": "stderr"
        },
        {
          "output_type": "stream",
          "text": [
            "\t\tIteration:2600\t\tLoss:0.10886677630245685\n"
          ],
          "name": "stdout"
        },
        {
          "output_type": "stream",
          "text": [
            " 76%|███████▌  | 546/718 [14:06<04:26,  1.55s/it]"
          ],
          "name": "stderr"
        },
        {
          "output_type": "stream",
          "text": [
            "\t\tIteration:2700\t\tLoss:0.10843005068600178\n"
          ],
          "name": "stdout"
        },
        {
          "output_type": "stream",
          "text": [
            " 90%|████████▉ | 646/718 [16:41<01:51,  1.55s/it]"
          ],
          "name": "stderr"
        },
        {
          "output_type": "stream",
          "text": [
            "\t\tIteration:2800\t\tLoss:0.09314821727573872\n"
          ],
          "name": "stdout"
        },
        {
          "output_type": "stream",
          "text": [
            "100%|██████████| 718/718 [18:33<00:00,  1.55s/it]\n",
            "  4%|▍         | 28/718 [00:43<17:48,  1.55s/it]"
          ],
          "name": "stderr"
        },
        {
          "output_type": "stream",
          "text": [
            "\t\tIteration:2900\t\tLoss:0.11369116406887769\n"
          ],
          "name": "stdout"
        },
        {
          "output_type": "stream",
          "text": [
            " 18%|█▊        | 128/718 [03:18<15:14,  1.55s/it]"
          ],
          "name": "stderr"
        },
        {
          "output_type": "stream",
          "text": [
            "\t\tIteration:3000\t\tLoss:0.1096260342746973\n"
          ],
          "name": "stdout"
        },
        {
          "output_type": "stream",
          "text": [
            " 32%|███▏      | 228/718 [05:54<12:40,  1.55s/it]"
          ],
          "name": "stderr"
        },
        {
          "output_type": "stream",
          "text": [
            "\t\tIteration:3100\t\tLoss:0.13299834489822387\n"
          ],
          "name": "stdout"
        },
        {
          "output_type": "stream",
          "text": [
            " 46%|████▌     | 328/718 [08:29<10:05,  1.55s/it]"
          ],
          "name": "stderr"
        },
        {
          "output_type": "stream",
          "text": [
            "\t\tIteration:3200\t\tLoss:0.11141550369560718\n"
          ],
          "name": "stdout"
        },
        {
          "output_type": "stream",
          "text": [
            " 60%|█████▉    | 428/718 [11:04<07:28,  1.55s/it]"
          ],
          "name": "stderr"
        },
        {
          "output_type": "stream",
          "text": [
            "\t\tIteration:3300\t\tLoss:0.13875119864940644\n"
          ],
          "name": "stdout"
        },
        {
          "output_type": "stream",
          "text": [
            " 74%|███████▎  | 528/718 [13:38<04:55,  1.56s/it]"
          ],
          "name": "stderr"
        },
        {
          "output_type": "stream",
          "text": [
            "\t\tIteration:3400\t\tLoss:0.10090169563889503\n"
          ],
          "name": "stdout"
        },
        {
          "output_type": "stream",
          "text": [
            " 87%|████████▋ | 628/718 [16:13<02:19,  1.55s/it]"
          ],
          "name": "stderr"
        },
        {
          "output_type": "stream",
          "text": [
            "\t\tIteration:3500\t\tLoss:0.09690814323723317\n"
          ],
          "name": "stdout"
        },
        {
          "output_type": "stream",
          "text": [
            "100%|██████████| 718/718 [18:33<00:00,  1.55s/it]\n",
            "  1%|▏         | 10/718 [00:15<18:27,  1.56s/it]"
          ],
          "name": "stderr"
        },
        {
          "output_type": "stream",
          "text": [
            "\t\tIteration:3600\t\tLoss:0.09897563327103853\n"
          ],
          "name": "stdout"
        },
        {
          "output_type": "stream",
          "text": [
            " 15%|█▌        | 110/718 [02:50<15:42,  1.55s/it]"
          ],
          "name": "stderr"
        },
        {
          "output_type": "stream",
          "text": [
            "\t\tIteration:3700\t\tLoss:0.11197133295238018\n"
          ],
          "name": "stdout"
        },
        {
          "output_type": "stream",
          "text": [
            " 29%|██▉       | 210/718 [05:26<13:07,  1.55s/it]"
          ],
          "name": "stderr"
        },
        {
          "output_type": "stream",
          "text": [
            "\t\tIteration:3800\t\tLoss:0.09216407362371683\n"
          ],
          "name": "stdout"
        },
        {
          "output_type": "stream",
          "text": [
            " 43%|████▎     | 310/718 [08:00<10:31,  1.55s/it]"
          ],
          "name": "stderr"
        },
        {
          "output_type": "stream",
          "text": [
            "\t\tIteration:3900\t\tLoss:0.10159120343625545\n"
          ],
          "name": "stdout"
        },
        {
          "output_type": "stream",
          "text": [
            " 57%|█████▋    | 410/718 [10:36<07:57,  1.55s/it]"
          ],
          "name": "stderr"
        },
        {
          "output_type": "stream",
          "text": [
            "\t\tIteration:4000\t\tLoss:0.090525775924325\n"
          ],
          "name": "stdout"
        },
        {
          "output_type": "stream",
          "text": [
            " 71%|███████   | 510/718 [13:11<05:21,  1.55s/it]"
          ],
          "name": "stderr"
        },
        {
          "output_type": "stream",
          "text": [
            "\t\tIteration:4100\t\tLoss:0.10274615664035082\n"
          ],
          "name": "stdout"
        },
        {
          "output_type": "stream",
          "text": [
            " 85%|████████▍ | 610/718 [15:46<02:47,  1.55s/it]"
          ],
          "name": "stderr"
        },
        {
          "output_type": "stream",
          "text": [
            "\t\tIteration:4200\t\tLoss:0.1594752039015293\n"
          ],
          "name": "stdout"
        },
        {
          "output_type": "stream",
          "text": [
            " 99%|█████████▉| 710/718 [18:21<00:12,  1.55s/it]"
          ],
          "name": "stderr"
        },
        {
          "output_type": "stream",
          "text": [
            "\t\tIteration:4300\t\tLoss:0.15541216865181923\n"
          ],
          "name": "stdout"
        },
        {
          "output_type": "stream",
          "text": [
            "100%|██████████| 718/718 [18:33<00:00,  1.55s/it]\n",
            " 13%|█▎        | 92/718 [02:22<16:09,  1.55s/it]"
          ],
          "name": "stderr"
        },
        {
          "output_type": "stream",
          "text": [
            "\t\tIteration:4400\t\tLoss:0.14887674249708652\n"
          ],
          "name": "stdout"
        },
        {
          "output_type": "stream",
          "text": [
            " 27%|██▋       | 192/718 [04:57<13:39,  1.56s/it]"
          ],
          "name": "stderr"
        },
        {
          "output_type": "stream",
          "text": [
            "\t\tIteration:4500\t\tLoss:0.15276200257241726\n"
          ],
          "name": "stdout"
        },
        {
          "output_type": "stream",
          "text": [
            " 41%|████      | 292/718 [07:32<11:01,  1.55s/it]"
          ],
          "name": "stderr"
        },
        {
          "output_type": "stream",
          "text": [
            "\t\tIteration:4600\t\tLoss:0.11288272067904473\n"
          ],
          "name": "stdout"
        },
        {
          "output_type": "stream",
          "text": [
            " 55%|█████▍    | 392/718 [10:08<08:26,  1.55s/it]"
          ],
          "name": "stderr"
        },
        {
          "output_type": "stream",
          "text": [
            "\t\tIteration:4700\t\tLoss:0.09725199230015277\n"
          ],
          "name": "stdout"
        },
        {
          "output_type": "stream",
          "text": [
            " 69%|██████▊   | 492/718 [12:43<05:50,  1.55s/it]"
          ],
          "name": "stderr"
        },
        {
          "output_type": "stream",
          "text": [
            "\t\tIteration:4800\t\tLoss:0.11390616543591023\n"
          ],
          "name": "stdout"
        },
        {
          "output_type": "stream",
          "text": [
            " 82%|████████▏ | 592/718 [15:18<03:15,  1.55s/it]"
          ],
          "name": "stderr"
        },
        {
          "output_type": "stream",
          "text": [
            "\t\tIteration:4900\t\tLoss:0.13574709720909595\n"
          ],
          "name": "stdout"
        },
        {
          "output_type": "stream",
          "text": [
            " 96%|█████████▋| 692/718 [17:53<00:40,  1.55s/it]"
          ],
          "name": "stderr"
        },
        {
          "output_type": "stream",
          "text": [
            "\t\tIteration:5000\t\tLoss:0.16143202863633632\n"
          ],
          "name": "stdout"
        },
        {
          "output_type": "stream",
          "text": [
            "100%|██████████| 718/718 [18:33<00:00,  1.55s/it]\n",
            " 10%|█         | 74/718 [01:55<16:43,  1.56s/it]"
          ],
          "name": "stderr"
        },
        {
          "output_type": "stream",
          "text": [
            "\t\tIteration:5100\t\tLoss:0.14186471357941627\n"
          ],
          "name": "stdout"
        },
        {
          "output_type": "stream",
          "text": [
            " 24%|██▍       | 174/718 [04:30<14:02,  1.55s/it]"
          ],
          "name": "stderr"
        },
        {
          "output_type": "stream",
          "text": [
            "\t\tIteration:5200\t\tLoss:0.1393381104618311\n"
          ],
          "name": "stdout"
        },
        {
          "output_type": "stream",
          "text": [
            " 38%|███▊      | 274/718 [07:05<11:29,  1.55s/it]"
          ],
          "name": "stderr"
        },
        {
          "output_type": "stream",
          "text": [
            "\t\tIteration:5300\t\tLoss:0.11289038982242346\n"
          ],
          "name": "stdout"
        },
        {
          "output_type": "stream",
          "text": [
            " 52%|█████▏    | 374/718 [09:40<08:54,  1.55s/it]"
          ],
          "name": "stderr"
        },
        {
          "output_type": "stream",
          "text": [
            "\t\tIteration:5400\t\tLoss:0.11551058270037175\n"
          ],
          "name": "stdout"
        },
        {
          "output_type": "stream",
          "text": [
            " 66%|██████▌   | 474/718 [12:16<06:19,  1.56s/it]"
          ],
          "name": "stderr"
        },
        {
          "output_type": "stream",
          "text": [
            "\t\tIteration:5500\t\tLoss:0.12459632284939288\n"
          ],
          "name": "stdout"
        },
        {
          "output_type": "stream",
          "text": [
            " 80%|███████▉  | 574/718 [14:51<03:43,  1.55s/it]"
          ],
          "name": "stderr"
        },
        {
          "output_type": "stream",
          "text": [
            "\t\tIteration:5600\t\tLoss:0.13769847124814988\n"
          ],
          "name": "stdout"
        },
        {
          "output_type": "stream",
          "text": [
            " 94%|█████████▍| 674/718 [17:26<01:08,  1.55s/it]"
          ],
          "name": "stderr"
        },
        {
          "output_type": "stream",
          "text": [
            "\t\tIteration:5700\t\tLoss:0.11400583833456039\n"
          ],
          "name": "stdout"
        },
        {
          "output_type": "stream",
          "text": [
            "100%|██████████| 718/718 [18:35<00:00,  1.55s/it]\n"
          ],
          "name": "stderr"
        }
      ]
    },
    {
      "cell_type": "code",
      "metadata": {
        "id": "9JoaruNh-BqZ",
        "colab_type": "code",
        "colab": {}
      },
      "source": [
        "torch.save(model.state_dict(), '/content/drive/My Drive/FasterRCNN/fasterrcnn_foodtracker.pth')"
      ],
      "execution_count": 0,
      "outputs": []
    }
  ]
}